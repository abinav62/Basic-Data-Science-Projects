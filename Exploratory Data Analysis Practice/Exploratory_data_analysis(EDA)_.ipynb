{
  "nbformat": 4,
  "nbformat_minor": 0,
  "metadata": {
    "colab": {
      "name": "Exploratory data analysis(EDA) .ipynb",
      "provenance": [],
      "collapsed_sections": []
    },
    "language_info": {
      "codemirror_mode": {
        "name": "ipython",
        "version": 3
      },
      "file_extension": ".py",
      "mimetype": "text/x-python",
      "name": "python",
      "nbconvert_exporter": "python",
      "pygments_lexer": "ipython3",
      "version": "3.6.4"
    },
    "kernelspec": {
      "display_name": "Python 3",
      "language": "python",
      "name": "python3"
    }
  },
  "cells": [
    {
      "cell_type": "markdown",
      "metadata": {
        "id": "LhJ6VSIOdCpX",
        "colab_type": "text"
      },
      "source": [
        "# Exploratory data analysis(EDA) With Python"
      ]
    },
    {
      "cell_type": "code",
      "metadata": {
        "id": "_8tCEszKdCpZ",
        "colab_type": "code",
        "colab": {}
      },
      "source": [
        "import pandas as pd\n",
        "import numpy as np\n",
        "import matplotlib.pyplot as plt\n",
        "%matplotlib inline"
      ],
      "execution_count": null,
      "outputs": []
    },
    {
      "cell_type": "code",
      "metadata": {
        "id": "zqMUKh-ry0cg",
        "colab_type": "code",
        "colab": {
          "base_uri": "https://localhost:8080/",
          "height": 126
        },
        "outputId": "b8137180-57be-4466-8d19-3123c2c09b8e"
      },
      "source": [
        "df = pd.read_csv('data.csv')\n",
        "print(df.head())"
      ],
      "execution_count": null,
      "outputs": [
        {
          "output_type": "stream",
          "text": [
            "  BranchName  Week  DayWeek  Day  Month  Hour Transaction_Type  Units   Amount\n",
            "0    MyStore     1        3    2      1     9             Card      3   $54.00\n",
            "1    MyStore     1        3    2      1    10             Cash      7  -$17.80\n",
            "2    MyStore     1        3    2      1    10             Card      7   $41.99\n",
            "3    MyStore     1        3    2      1    11             Card     20  $412.50\n",
            "4    MyStore     1        3    2      1    12             Cash      1  -$18.00\n"
          ],
          "name": "stdout"
        }
      ]
    },
    {
      "cell_type": "code",
      "metadata": {
        "id": "qi_eUfK2dCpe",
        "colab_type": "code",
        "colab": {
          "base_uri": "https://localhost:8080/",
          "height": 126
        },
        "outputId": "a99b2519-d9ff-43dd-a35e-f6641a3dc72d"
      },
      "source": [
        "df['Amount'] = df['Amount'].str.replace('$','').str.replace(',','')\n",
        "df['Amount'] = pd.to_numeric(df['Amount'])\n",
        "print(df.head())"
      ],
      "execution_count": null,
      "outputs": [
        {
          "output_type": "stream",
          "text": [
            "  BranchName  Week  DayWeek  Day  Month  Hour Transaction_Type  Units  Amount\n",
            "0    MyStore     1        3    2      1     9             Card      3   54.00\n",
            "1    MyStore     1        3    2      1    10             Cash      7  -17.80\n",
            "2    MyStore     1        3    2      1    10             Card      7   41.99\n",
            "3    MyStore     1        3    2      1    11             Card     20  412.50\n",
            "4    MyStore     1        3    2      1    12             Cash      1  -18.00\n"
          ],
          "name": "stdout"
        }
      ]
    },
    {
      "cell_type": "code",
      "metadata": {
        "id": "YDYMWCFp0atd",
        "colab_type": "code",
        "colab": {
          "base_uri": "https://localhost:8080/",
          "height": 308
        },
        "outputId": "74df692e-1606-4b97-c192-ff69927e4d61"
      },
      "source": [
        "df.info()"
      ],
      "execution_count": null,
      "outputs": [
        {
          "output_type": "stream",
          "text": [
            "<class 'pandas.core.frame.DataFrame'>\n",
            "RangeIndex: 4100 entries, 0 to 4099\n",
            "Data columns (total 9 columns):\n",
            " #   Column            Non-Null Count  Dtype  \n",
            "---  ------            --------------  -----  \n",
            " 0   BranchName        4100 non-null   object \n",
            " 1   Week              4100 non-null   int64  \n",
            " 2   DayWeek           4100 non-null   int64  \n",
            " 3   Day               4100 non-null   int64  \n",
            " 4   Month             4100 non-null   int64  \n",
            " 5   Hour              4100 non-null   int64  \n",
            " 6   Transaction_Type  4100 non-null   object \n",
            " 7   Units             4100 non-null   int64  \n",
            " 8   Amount            4100 non-null   float64\n",
            "dtypes: float64(1), int64(6), object(2)\n",
            "memory usage: 288.4+ KB\n"
          ],
          "name": "stdout"
        }
      ]
    },
    {
      "cell_type": "code",
      "metadata": {
        "id": "qp0DE2j6dCpl",
        "colab_type": "code",
        "colab": {
          "base_uri": "https://localhost:8080/",
          "height": 195
        },
        "outputId": "91801633-4f35-4559-8bab-5994cb129058"
      },
      "source": [
        "# Remove unwanted \n",
        "df.drop('BranchName',axis=1, inplace=True)\n",
        "df.head(10) # First 5 records"
      ],
      "execution_count": null,
      "outputs": [
        {
          "output_type": "execute_result",
          "data": {
            "text/html": [
              "<div>\n",
              "<style scoped>\n",
              "    .dataframe tbody tr th:only-of-type {\n",
              "        vertical-align: middle;\n",
              "    }\n",
              "\n",
              "    .dataframe tbody tr th {\n",
              "        vertical-align: top;\n",
              "    }\n",
              "\n",
              "    .dataframe thead th {\n",
              "        text-align: right;\n",
              "    }\n",
              "</style>\n",
              "<table border=\"1\" class=\"dataframe\">\n",
              "  <thead>\n",
              "    <tr style=\"text-align: right;\">\n",
              "      <th></th>\n",
              "      <th>Week</th>\n",
              "      <th>DayWeek</th>\n",
              "      <th>Day</th>\n",
              "      <th>Month</th>\n",
              "      <th>Hour</th>\n",
              "      <th>Transaction_Type</th>\n",
              "      <th>Units</th>\n",
              "      <th>Amount</th>\n",
              "    </tr>\n",
              "  </thead>\n",
              "  <tbody>\n",
              "    <tr>\n",
              "      <th>0</th>\n",
              "      <td>1</td>\n",
              "      <td>3</td>\n",
              "      <td>2</td>\n",
              "      <td>1</td>\n",
              "      <td>9</td>\n",
              "      <td>Card</td>\n",
              "      <td>3</td>\n",
              "      <td>54.00</td>\n",
              "    </tr>\n",
              "    <tr>\n",
              "      <th>1</th>\n",
              "      <td>1</td>\n",
              "      <td>3</td>\n",
              "      <td>2</td>\n",
              "      <td>1</td>\n",
              "      <td>10</td>\n",
              "      <td>Cash</td>\n",
              "      <td>7</td>\n",
              "      <td>-17.80</td>\n",
              "    </tr>\n",
              "    <tr>\n",
              "      <th>2</th>\n",
              "      <td>1</td>\n",
              "      <td>3</td>\n",
              "      <td>2</td>\n",
              "      <td>1</td>\n",
              "      <td>10</td>\n",
              "      <td>Card</td>\n",
              "      <td>7</td>\n",
              "      <td>41.99</td>\n",
              "    </tr>\n",
              "    <tr>\n",
              "      <th>3</th>\n",
              "      <td>1</td>\n",
              "      <td>3</td>\n",
              "      <td>2</td>\n",
              "      <td>1</td>\n",
              "      <td>11</td>\n",
              "      <td>Card</td>\n",
              "      <td>20</td>\n",
              "      <td>412.50</td>\n",
              "    </tr>\n",
              "    <tr>\n",
              "      <th>4</th>\n",
              "      <td>1</td>\n",
              "      <td>3</td>\n",
              "      <td>2</td>\n",
              "      <td>1</td>\n",
              "      <td>12</td>\n",
              "      <td>Cash</td>\n",
              "      <td>1</td>\n",
              "      <td>-18.00</td>\n",
              "    </tr>\n",
              "  </tbody>\n",
              "</table>\n",
              "</div>"
            ],
            "text/plain": [
              "   Week  DayWeek  Day  Month  Hour Transaction_Type  Units  Amount\n",
              "0     1        3    2      1     9             Card      3   54.00\n",
              "1     1        3    2      1    10             Cash      7  -17.80\n",
              "2     1        3    2      1    10             Card      7   41.99\n",
              "3     1        3    2      1    11             Card     20  412.50\n",
              "4     1        3    2      1    12             Cash      1  -18.00"
            ]
          },
          "metadata": {
            "tags": []
          },
          "execution_count": 5
        }
      ]
    },
    {
      "cell_type": "code",
      "metadata": {
        "id": "PqpyhXt-H_jP",
        "colab_type": "code",
        "colab": {
          "base_uri": "https://localhost:8080/",
          "height": 348
        },
        "outputId": "bc8be86e-f26c-4d88-bd0e-1d78952b850d"
      },
      "source": [
        "df.head(10)"
      ],
      "execution_count": null,
      "outputs": [
        {
          "output_type": "execute_result",
          "data": {
            "text/html": [
              "<div>\n",
              "<style scoped>\n",
              "    .dataframe tbody tr th:only-of-type {\n",
              "        vertical-align: middle;\n",
              "    }\n",
              "\n",
              "    .dataframe tbody tr th {\n",
              "        vertical-align: top;\n",
              "    }\n",
              "\n",
              "    .dataframe thead th {\n",
              "        text-align: right;\n",
              "    }\n",
              "</style>\n",
              "<table border=\"1\" class=\"dataframe\">\n",
              "  <thead>\n",
              "    <tr style=\"text-align: right;\">\n",
              "      <th></th>\n",
              "      <th>BranchName</th>\n",
              "      <th>Week</th>\n",
              "      <th>DayWeek</th>\n",
              "      <th>Day</th>\n",
              "      <th>Month</th>\n",
              "      <th>Hour</th>\n",
              "      <th>Transaction_Type</th>\n",
              "      <th>Units</th>\n",
              "      <th>Amount</th>\n",
              "    </tr>\n",
              "  </thead>\n",
              "  <tbody>\n",
              "    <tr>\n",
              "      <th>0</th>\n",
              "      <td>MyStore</td>\n",
              "      <td>1</td>\n",
              "      <td>3</td>\n",
              "      <td>2</td>\n",
              "      <td>1</td>\n",
              "      <td>9</td>\n",
              "      <td>Card</td>\n",
              "      <td>3</td>\n",
              "      <td>54.00</td>\n",
              "    </tr>\n",
              "    <tr>\n",
              "      <th>1</th>\n",
              "      <td>MyStore</td>\n",
              "      <td>1</td>\n",
              "      <td>3</td>\n",
              "      <td>2</td>\n",
              "      <td>1</td>\n",
              "      <td>10</td>\n",
              "      <td>Cash</td>\n",
              "      <td>7</td>\n",
              "      <td>-17.80</td>\n",
              "    </tr>\n",
              "    <tr>\n",
              "      <th>2</th>\n",
              "      <td>MyStore</td>\n",
              "      <td>1</td>\n",
              "      <td>3</td>\n",
              "      <td>2</td>\n",
              "      <td>1</td>\n",
              "      <td>10</td>\n",
              "      <td>Card</td>\n",
              "      <td>7</td>\n",
              "      <td>41.99</td>\n",
              "    </tr>\n",
              "    <tr>\n",
              "      <th>3</th>\n",
              "      <td>MyStore</td>\n",
              "      <td>1</td>\n",
              "      <td>3</td>\n",
              "      <td>2</td>\n",
              "      <td>1</td>\n",
              "      <td>11</td>\n",
              "      <td>Card</td>\n",
              "      <td>20</td>\n",
              "      <td>412.50</td>\n",
              "    </tr>\n",
              "    <tr>\n",
              "      <th>4</th>\n",
              "      <td>MyStore</td>\n",
              "      <td>1</td>\n",
              "      <td>3</td>\n",
              "      <td>2</td>\n",
              "      <td>1</td>\n",
              "      <td>12</td>\n",
              "      <td>Cash</td>\n",
              "      <td>1</td>\n",
              "      <td>-18.00</td>\n",
              "    </tr>\n",
              "    <tr>\n",
              "      <th>5</th>\n",
              "      <td>MyStore</td>\n",
              "      <td>1</td>\n",
              "      <td>3</td>\n",
              "      <td>2</td>\n",
              "      <td>1</td>\n",
              "      <td>12</td>\n",
              "      <td>Card</td>\n",
              "      <td>1</td>\n",
              "      <td>-5.00</td>\n",
              "    </tr>\n",
              "    <tr>\n",
              "      <th>6</th>\n",
              "      <td>MyStore</td>\n",
              "      <td>1</td>\n",
              "      <td>3</td>\n",
              "      <td>2</td>\n",
              "      <td>1</td>\n",
              "      <td>12</td>\n",
              "      <td>Card</td>\n",
              "      <td>15</td>\n",
              "      <td>118.50</td>\n",
              "    </tr>\n",
              "    <tr>\n",
              "      <th>7</th>\n",
              "      <td>MyStore</td>\n",
              "      <td>1</td>\n",
              "      <td>3</td>\n",
              "      <td>2</td>\n",
              "      <td>1</td>\n",
              "      <td>13</td>\n",
              "      <td>Cash</td>\n",
              "      <td>90</td>\n",
              "      <td>-94.92</td>\n",
              "    </tr>\n",
              "    <tr>\n",
              "      <th>8</th>\n",
              "      <td>MyStore</td>\n",
              "      <td>1</td>\n",
              "      <td>3</td>\n",
              "      <td>2</td>\n",
              "      <td>1</td>\n",
              "      <td>13</td>\n",
              "      <td>Card</td>\n",
              "      <td>28</td>\n",
              "      <td>423.50</td>\n",
              "    </tr>\n",
              "    <tr>\n",
              "      <th>9</th>\n",
              "      <td>MyStore</td>\n",
              "      <td>1</td>\n",
              "      <td>3</td>\n",
              "      <td>2</td>\n",
              "      <td>1</td>\n",
              "      <td>14</td>\n",
              "      <td>Cash</td>\n",
              "      <td>34</td>\n",
              "      <td>-95.39</td>\n",
              "    </tr>\n",
              "  </tbody>\n",
              "</table>\n",
              "</div>"
            ],
            "text/plain": [
              "  BranchName  Week  DayWeek  Day  Month  Hour Transaction_Type  Units  Amount\n",
              "0    MyStore     1        3    2      1     9             Card      3   54.00\n",
              "1    MyStore     1        3    2      1    10             Cash      7  -17.80\n",
              "2    MyStore     1        3    2      1    10             Card      7   41.99\n",
              "3    MyStore     1        3    2      1    11             Card     20  412.50\n",
              "4    MyStore     1        3    2      1    12             Cash      1  -18.00\n",
              "5    MyStore     1        3    2      1    12             Card      1   -5.00\n",
              "6    MyStore     1        3    2      1    12             Card     15  118.50\n",
              "7    MyStore     1        3    2      1    13             Cash     90  -94.92\n",
              "8    MyStore     1        3    2      1    13             Card     28  423.50\n",
              "9    MyStore     1        3    2      1    14             Cash     34  -95.39"
            ]
          },
          "metadata": {
            "tags": []
          },
          "execution_count": 8
        }
      ]
    },
    {
      "cell_type": "code",
      "metadata": {
        "id": "TM9oNhHudCpq",
        "colab_type": "code",
        "colab": {
          "base_uri": "https://localhost:8080/",
          "height": 35
        },
        "outputId": "a401be13-2bc2-4303-bfe0-02ee93f5f63c"
      },
      "source": [
        "df.shape"
      ],
      "execution_count": null,
      "outputs": [
        {
          "output_type": "execute_result",
          "data": {
            "text/plain": [
              "(4100, 9)"
            ]
          },
          "metadata": {
            "tags": []
          },
          "execution_count": 9
        }
      ]
    },
    {
      "cell_type": "code",
      "metadata": {
        "id": "J2i8vJ3tdCpu",
        "colab_type": "code",
        "colab": {
          "base_uri": "https://localhost:8080/",
          "height": 288
        },
        "outputId": "39c60f36-d374-4da2-f1f9-bcf51b33a2be"
      },
      "source": [
        "df.describe()"
      ],
      "execution_count": null,
      "outputs": [
        {
          "output_type": "execute_result",
          "data": {
            "text/html": [
              "<div>\n",
              "<style scoped>\n",
              "    .dataframe tbody tr th:only-of-type {\n",
              "        vertical-align: middle;\n",
              "    }\n",
              "\n",
              "    .dataframe tbody tr th {\n",
              "        vertical-align: top;\n",
              "    }\n",
              "\n",
              "    .dataframe thead th {\n",
              "        text-align: right;\n",
              "    }\n",
              "</style>\n",
              "<table border=\"1\" class=\"dataframe\">\n",
              "  <thead>\n",
              "    <tr style=\"text-align: right;\">\n",
              "      <th></th>\n",
              "      <th>Week</th>\n",
              "      <th>DayWeek</th>\n",
              "      <th>Day</th>\n",
              "      <th>Month</th>\n",
              "      <th>Hour</th>\n",
              "      <th>Units</th>\n",
              "      <th>Amount</th>\n",
              "    </tr>\n",
              "  </thead>\n",
              "  <tbody>\n",
              "    <tr>\n",
              "      <th>count</th>\n",
              "      <td>4100.000000</td>\n",
              "      <td>4100.000000</td>\n",
              "      <td>4100.000000</td>\n",
              "      <td>4100.000000</td>\n",
              "      <td>4100.000000</td>\n",
              "      <td>4100.000000</td>\n",
              "      <td>4100.000000</td>\n",
              "    </tr>\n",
              "    <tr>\n",
              "      <th>mean</th>\n",
              "      <td>34.017805</td>\n",
              "      <td>4.183902</td>\n",
              "      <td>15.812195</td>\n",
              "      <td>8.231463</td>\n",
              "      <td>12.949024</td>\n",
              "      <td>12.779512</td>\n",
              "      <td>35.237046</td>\n",
              "    </tr>\n",
              "    <tr>\n",
              "      <th>std</th>\n",
              "      <td>14.714289</td>\n",
              "      <td>1.967864</td>\n",
              "      <td>8.810817</td>\n",
              "      <td>3.396586</td>\n",
              "      <td>2.631853</td>\n",
              "      <td>17.854968</td>\n",
              "      <td>183.538724</td>\n",
              "    </tr>\n",
              "    <tr>\n",
              "      <th>min</th>\n",
              "      <td>1.000000</td>\n",
              "      <td>1.000000</td>\n",
              "      <td>1.000000</td>\n",
              "      <td>1.000000</td>\n",
              "      <td>8.000000</td>\n",
              "      <td>1.000000</td>\n",
              "      <td>-1041.800000</td>\n",
              "    </tr>\n",
              "    <tr>\n",
              "      <th>25%</th>\n",
              "      <td>29.000000</td>\n",
              "      <td>3.000000</td>\n",
              "      <td>8.000000</td>\n",
              "      <td>7.000000</td>\n",
              "      <td>11.000000</td>\n",
              "      <td>3.000000</td>\n",
              "      <td>-47.000000</td>\n",
              "    </tr>\n",
              "    <tr>\n",
              "      <th>50%</th>\n",
              "      <td>37.000000</td>\n",
              "      <td>4.000000</td>\n",
              "      <td>16.000000</td>\n",
              "      <td>9.000000</td>\n",
              "      <td>13.000000</td>\n",
              "      <td>8.000000</td>\n",
              "      <td>-2.385000</td>\n",
              "    </tr>\n",
              "    <tr>\n",
              "      <th>75%</th>\n",
              "      <td>45.000000</td>\n",
              "      <td>6.000000</td>\n",
              "      <td>23.000000</td>\n",
              "      <td>11.000000</td>\n",
              "      <td>15.000000</td>\n",
              "      <td>16.000000</td>\n",
              "      <td>99.512500</td>\n",
              "    </tr>\n",
              "    <tr>\n",
              "      <th>max</th>\n",
              "      <td>53.000000</td>\n",
              "      <td>7.000000</td>\n",
              "      <td>31.000000</td>\n",
              "      <td>12.000000</td>\n",
              "      <td>19.000000</td>\n",
              "      <td>274.000000</td>\n",
              "      <td>1487.000000</td>\n",
              "    </tr>\n",
              "  </tbody>\n",
              "</table>\n",
              "</div>"
            ],
            "text/plain": [
              "              Week      DayWeek  ...        Units       Amount\n",
              "count  4100.000000  4100.000000  ...  4100.000000  4100.000000\n",
              "mean     34.017805     4.183902  ...    12.779512    35.237046\n",
              "std      14.714289     1.967864  ...    17.854968   183.538724\n",
              "min       1.000000     1.000000  ...     1.000000 -1041.800000\n",
              "25%      29.000000     3.000000  ...     3.000000   -47.000000\n",
              "50%      37.000000     4.000000  ...     8.000000    -2.385000\n",
              "75%      45.000000     6.000000  ...    16.000000    99.512500\n",
              "max      53.000000     7.000000  ...   274.000000  1487.000000\n",
              "\n",
              "[8 rows x 7 columns]"
            ]
          },
          "metadata": {
            "tags": []
          },
          "execution_count": 10
        }
      ]
    },
    {
      "cell_type": "code",
      "metadata": {
        "id": "qkqJD-YGdCpz",
        "colab_type": "code",
        "colab": {
          "base_uri": "https://localhost:8080/",
          "height": 35
        },
        "outputId": "a985e0dc-1da4-4ad9-f52b-c9407b2e6caa"
      },
      "source": [
        "df['Units'].count()"
      ],
      "execution_count": null,
      "outputs": [
        {
          "output_type": "execute_result",
          "data": {
            "text/plain": [
              "4100"
            ]
          },
          "metadata": {
            "tags": []
          },
          "execution_count": 11
        }
      ]
    },
    {
      "cell_type": "markdown",
      "metadata": {
        "id": "g3VSWRg7dCp3",
        "colab_type": "text"
      },
      "source": [
        "## Distribution Plot"
      ]
    },
    {
      "cell_type": "code",
      "metadata": {
        "id": "qW9V_OcNdCp4",
        "colab_type": "code",
        "colab": {
          "base_uri": "https://localhost:8080/",
          "height": 265
        },
        "outputId": "e8d6f601-bf70-4c55-ff44-749208dccb31"
      },
      "source": [
        "num_bins = 10\n",
        "plt.hist(df['Amount'], num_bins, density=1, facecolor='blue', alpha=0.7)\n",
        "plt.show()"
      ],
      "execution_count": null,
      "outputs": [
        {
          "output_type": "display_data",
          "data": {
            "image/png": "[encoded data removed]",
            "text/plain": [
              "<Figure size 432x288 with 1 Axes>"
            ]
          },
          "metadata": {
            "tags": [],
            "needs_background": "light"
          }
        }
      ]
    },
    {
      "cell_type": "markdown",
      "metadata": {
        "id": "VI9zQlNSdCp_",
        "colab_type": "text"
      },
      "source": [
        "The data varies from `-1000` to `1000` sums up how much the amount varies."
      ]
    },
    {
      "cell_type": "markdown",
      "metadata": {
        "id": "7R8kGmwOdCqA",
        "colab_type": "text"
      },
      "source": [
        "## Sales by Month, Day and Hour"
      ]
    },
    {
      "cell_type": "markdown",
      "metadata": {
        "id": "iCvNgVW3dCqB",
        "colab_type": "text"
      },
      "source": [
        "### By Month"
      ]
    },
    {
      "cell_type": "code",
      "metadata": {
        "id": "Vh1aDVZGdCqC",
        "colab_type": "code",
        "colab": {
          "base_uri": "https://localhost:8080/",
          "height": 463
        },
        "outputId": "6b0fc033-adc0-4421-b084-b578232153a3"
      },
      "source": [
        "sales_by_month = df.groupby('Month').size()\n",
        "print(sales_by_month)\n",
        "#Plotting the Graph\n",
        "plot_by_month = sales_by_month.plot(title='Monthly Sales',xticks=(1,2,3,4,5,6,7,8,9,10,11,12))\n",
        "plot_by_month.set_xlabel('Months')\n",
        "plot_by_month.set_ylabel('Total Sales')"
      ],
      "execution_count": null,
      "outputs": [
        {
          "output_type": "stream",
          "text": [
            "Month\n",
            "1     604\n",
            "7     606\n",
            "8     572\n",
            "9     580\n",
            "10    581\n",
            "11    587\n",
            "12    570\n",
            "dtype: int64\n"
          ],
          "name": "stdout"
        },
        {
          "output_type": "execute_result",
          "data": {
            "text/plain": [
              "Text(0, 0.5, 'Total Sales')"
            ]
          },
          "metadata": {
            "tags": []
          },
          "execution_count": 11
        },
        {
          "output_type": "display_data",
          "data": {
            "image/png": "[encoded data removed]",
            "text/plain": [
              "<Figure size 432x288 with 1 Axes>"
            ]
          },
          "metadata": {
            "tags": [],
            "needs_background": "light"
          }
        }
      ]
    },
    {
      "cell_type": "markdown",
      "metadata": {
        "id": "tws_6R9mdCqG",
        "colab_type": "text"
      },
      "source": [
        "### By Day"
      ]
    },
    {
      "cell_type": "code",
      "metadata": {
        "id": "XVSHH7vkdCqH",
        "colab_type": "code",
        "colab": {
          "base_uri": "https://localhost:8080/",
          "height": 312
        },
        "outputId": "afaef20b-8084-49fc-d7ff-be774e5aa2d7"
      },
      "source": [
        "sales_by_day = df.groupby('Day').size()\n",
        "plot_by_day = sales_by_day.plot(title='Daily Sales',xticks=(range(1,31)))\n",
        "plot_by_day.set_xlabel('Day')\n",
        "plot_by_day.set_ylabel('Total Sales')\n",
        "#plot_by_day.grid(color='r', linestyle='-', linewidth=0.3)"
      ],
      "execution_count": null,
      "outputs": [
        {
          "output_type": "execute_result",
          "data": {
            "text/plain": [
              "Text(0, 0.5, 'Total Sales')"
            ]
          },
          "metadata": {
            "tags": []
          },
          "execution_count": 11
        },
        {
          "output_type": "display_data",
          "data": {
            "image/png": "[encoded data removed]",
            "text/plain": [
              "<Figure size 432x288 with 1 Axes>"
            ]
          },
          "metadata": {
            "tags": [],
            "needs_background": "light"
          }
        }
      ]
    },
    {
      "cell_type": "markdown",
      "metadata": {
        "id": "v4756i0odCqL",
        "colab_type": "text"
      },
      "source": [
        "As such, the 18th day was the best day, that day 151 units were sold and the last sale of the month was drastically reduced."
      ]
    },
    {
      "cell_type": "markdown",
      "metadata": {
        "id": "Jl4OsjIydCqM",
        "colab_type": "text"
      },
      "source": [
        "### By Hour"
      ]
    },
    {
      "cell_type": "code",
      "metadata": {
        "id": "5M-7wQcZdCqN",
        "colab_type": "code",
        "colab": {
          "base_uri": "https://localhost:8080/",
          "height": 312
        },
        "outputId": "cfb474cc-65e4-41fd-d5f2-70ae9912c832"
      },
      "source": [
        "sales_by_hour = df.groupby('Hour').size()\n",
        "plot_by_hour = sales_by_hour.plot(title='Hourly Sales',xticks=(range(5,22)))\n",
        "plot_by_hour.set_xlabel('Working Hours')\n",
        "plot_by_hour.set_ylabel('Total Sales')"
      ],
      "execution_count": null,
      "outputs": [
        {
          "output_type": "execute_result",
          "data": {
            "text/plain": [
              "Text(0, 0.5, 'Total Sales')"
            ]
          },
          "metadata": {
            "tags": []
          },
          "execution_count": 17
        },
        {
          "output_type": "display_data",
          "data": {
            "image/png": "[encoded data removed]",
            "text/plain": [
              "<Figure size 432x288 with 1 Axes>"
            ]
          },
          "metadata": {
            "tags": [],
            "needs_background": "light"
          }
        }
      ]
    },
    {
      "cell_type": "markdown",
      "metadata": {
        "id": "l29u-gE4dCqR",
        "colab_type": "text"
      },
      "source": [
        " Majority of the customers come in afternoon. The frequency gets quite low during closing time."
      ]
    },
    {
      "cell_type": "code",
      "metadata": {
        "id": "8OGla9Qtdzza",
        "colab_type": "code",
        "colab": {}
      },
      "source": [
        ""
      ],
      "execution_count": null,
      "outputs": []
    }
  ]
}